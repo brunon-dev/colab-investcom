{
  "nbformat": 4,
  "nbformat_minor": 0,
  "metadata": {
    "colab": {
      "name": "DadosInvestCom.ipynb",
      "provenance": [],
      "authorship_tag": "ABX9TyPlDObW+U08fqUtq/QF92FA",
      "include_colab_link": true
    },
    "kernelspec": {
      "name": "python3",
      "display_name": "Python 3"
    }
  },
  "cells": [
    {
      "cell_type": "markdown",
      "metadata": {
        "id": "view-in-github",
        "colab_type": "text"
      },
      "source": [
        "<a href=\"https://colab.research.google.com/github/eu-brunon/colab-investcom/blob/master/DadosInvestCom.ipynb\" target=\"_parent\"><img src=\"https://colab.research.google.com/assets/colab-badge.svg\" alt=\"Open In Colab\"/></a>"
      ]
    },
    {
      "cell_type": "code",
      "metadata": {
        "id": "ptW0zO61iphV",
        "colab_type": "code",
        "colab": {}
      },
      "source": [
        "!pip install investpy"
      ],
      "execution_count": null,
      "outputs": []
    },
    {
      "cell_type": "code",
      "metadata": {
        "id": "FoI-awgVhjqu",
        "colab_type": "code",
        "colab": {}
      },
      "source": [
        "import investpy as env"
      ],
      "execution_count": 1,
      "outputs": []
    },
    {
      "cell_type": "code",
      "metadata": {
        "id": "RfFUhfugh3sW",
        "colab_type": "code",
        "colab": {}
      },
      "source": [
        "import matplotlib.pyplot as plt\n",
        "import pandas as pd\n",
        "import seaborn as sns; sns.set()\n",
        "import matplotlib\n",
        "matplotlib.rcParams['figure.figsize'] = (16,8)"
      ],
      "execution_count": null,
      "outputs": []
    },
    {
      "cell_type": "code",
      "metadata": {
        "id": "36wyH-DBii8A",
        "colab_type": "code",
        "colab": {}
      },
      "source": [
        "fundos_br = env.get_funds_list(country='brazil')\n",
        "fundos_br"
      ],
      "execution_count": null,
      "outputs": []
    },
    {
      "cell_type": "code",
      "metadata": {
        "id": "Sl17QF6hjBYe",
        "colab_type": "code",
        "colab": {
          "base_uri": "https://localhost:8080/",
          "height": 34
        },
        "outputId": "2ea187ae-5673-4100-a85d-d8b692fcae50"
      },
      "source": [
        "len(fundos_br)"
      ],
      "execution_count": 5,
      "outputs": [
        {
          "output_type": "execute_result",
          "data": {
            "text/plain": [
              "5200"
            ]
          },
          "metadata": {
            "tags": []
          },
          "execution_count": 5
        }
      ]
    },
    {
      "cell_type": "code",
      "metadata": {
        "id": "D1wy6ti0jEzX",
        "colab_type": "code",
        "colab": {
          "base_uri": "https://localhost:8080/",
          "height": 104
        },
        "outputId": "8cd87fb9-64a9-4367-a9d6-9d77bed770b2"
      },
      "source": [
        "fundos_br[:5]"
      ],
      "execution_count": 6,
      "outputs": [
        {
          "output_type": "execute_result",
          "data": {
            "text/plain": [
              "['Fundo De Investimento Multimercado Bordeaux Iv Crédito Privado Investimento No Exterior',\n",
              " 'Cshg Warrior V Fundo De Investimento Multimercado - Crédito Privado Investimento No Exterior',\n",
              " 'A3 Viking Fi Em Quotas De Fi Multimercado Crédito Privado Investimento No Exterior',\n",
              " 'Bb Espelho Multimercado Lp J. Safra Absoluto 30 Private Fic Fi',\n",
              " 'Ctm Hedge Fundo De Investimento Multimercado - Longo Prazo']"
            ]
          },
          "metadata": {
            "tags": []
          },
          "execution_count": 6
        }
      ]
    }
  ]
}